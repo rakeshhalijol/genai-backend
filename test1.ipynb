{
 "cells": [
  {
   "cell_type": "code",
   "execution_count": 1,
   "metadata": {},
   "outputs": [],
   "source": [
    "import pandas as pd\n",
    "import threading\n",
    "import requests"
   ]
  },
  {
   "cell_type": "code",
   "execution_count": 2,
   "metadata": {},
   "outputs": [],
   "source": [
    "# Initialize your data and DataFrame here\n",
    "df = pd.read_excel(\"cXML Mappings - MAPPING_ANY_cXML_0000_InvoiceDetailRequest_1INV_0000_Invoice.xlsx\")\n",
    "new_df = df.copy()"
   ]
  },
  {
   "cell_type": "code",
   "execution_count": 3,
   "metadata": {},
   "outputs": [],
   "source": [
    "# OpenAI access_token generation\n",
    "def getAccessToken():\n",
    "\n",
    "\n",
    "    client_id = \"sb-7f966fb6-ddfb-4fbe-a0a6-402fc85bc3dc!b85851|azure-openai-service-i057149-xs!b16730\"\n",
    "    client_secret = \"ba681a2e-e2f6-4ed7-b9ea-9536f7c239e7$C1aD40juyxlJg_eaEICYmMEJ9CYxY_kV2N_7Y-eAh7Q=\"\n",
    "    uaa_url = \"https://toolsteamai-2834lxx7.authentication.sap.hana.ondemand.com\"\n",
    "\n",
    "    params = {\"grant_type\": \"client_credentials\" }\n",
    "    resp = requests.post(f\"{uaa_url}/oauth/token\",\n",
    "                         auth=(client_id, client_secret),\n",
    "                         params=params)\n",
    "\n",
    " \n",
    "\n",
    "    token = resp.json()[\"access_token\"]\n",
    "\n",
    " \n",
    "\n",
    "    return token"
   ]
  },
  {
   "cell_type": "code",
   "execution_count": 4,
   "metadata": {},
   "outputs": [],
   "source": [
    "input = new_df.to_string()"
   ]
  },
  {
   "cell_type": "code",
   "execution_count": 5,
   "metadata": {},
   "outputs": [],
   "source": [
    "import re\n",
    "def extract_code_from_response(generated_text):\n",
    "    generated_text = str(generated_text)\n",
    "    pattern = r\"```xml([\\s\\S]*?)```\"\n",
    "    matches = re.finditer(pattern, generated_text, re.DOTALL)\n",
    "    matches_list = [match.group(1) for match in matches]\n",
    "    return matches_list"
   ]
  },
  {
   "cell_type": "code",
   "execution_count": 6,
   "metadata": {},
   "outputs": [],
   "source": [
    "def generate_xml(new_df,i, chunks, token, svc_url, output, input):\n",
    "    delimiter = \"####\"\n",
    "    \n",
    "    # Calculate the input range\n",
    "    if (i + chunks) < len(new_df):\n",
    "        input2 = new_df[i:i+chunks].to_string()\n",
    "    else:\n",
    "        input2 = new_df[i:len(new_df)].to_string()\n",
    "        \n",
    "    system_input= f\"\"\"\n",
    "\n",
    "\n",
    "\n",
    "    You are given the contents of excel sheet in pandas dataframe string format which is mentioned inside the {delimiter}.\n",
    "\n",
    "\n",
    "\n",
    "    The data is here {delimiter} {input} {delimiter} .When we input this string we get following xml output mentioned inside delimeter {delimiter}\n",
    "\n",
    "\n",
    "\n",
    "The output is {delimiter} {output} {delimiter}. The taks is to generate the similar output xml for the sample input mentioned by user.The output displayed should only be xml in ```xml content here``` format, do generate for all rows \n",
    "\"\"\"\n",
    "\n",
    "    data = {\n",
    "        \"deployment_id\": \"gpt-4-32k\",\n",
    "        \"messages\": [\n",
    "            {\"role\": \"system\", \"content\": f\"An interaction between a human and a machine. You have to do the following {system_input}\"},\n",
    "            {\"role\": \"user\", \"content\": f\" kindly generate complete xml for this input {input2}, The output displayed should only be xml don't generate description \"}\n",
    "        ],\n",
    "        \"max_tokens\": 1200,\n",
    "        \"temperature\": 0.7,\n",
    "        \"frequency_penalty\": 0,\n",
    "        \"presence_penalty\": 0,\n",
    "        \"top_p\": 0.95,\n",
    "        \"stop\": \"null\"\n",
    "    }\n",
    "\n",
    "    headers = {\n",
    "        \"Authorization\": f\"Bearer {token}\",\n",
    "        \"Content-Type\": \"application/json\"\n",
    "    }\n",
    "\n",
    "    response = requests.post(f\"{svc_url}/api/v1/completions\", headers=headers, json=data)\n",
    "    jsonContent = response.json()\n",
    "    # print(\"___________________________\",jsonContent['choices'][0]['message']['content'])\n",
    "    print(extract_code_from_response(jsonContent['choices'][0]['message']['content']))\n",
    "    with open(f\"test{i}.xslt\", \"w\") as file:\n",
    "        file.write(extract_code_from_response(jsonContent['choices'][0]['message']['content'])[0])\n",
    "\n",
    "\n"
   ]
  },
  {
   "cell_type": "code",
   "execution_count": 7,
   "metadata": {},
   "outputs": [
    {
     "name": "stdout",
     "output_type": "stream",
     "text": [
      "0\n",
      "10\n",
      "20\n",
      "30\n",
      "40\n",
      "50\n",
      "60\n",
      "70\n",
      "80\n",
      "['\\n<!-- Create Party Section -->\\n<xsl:template name=\"createParties\">\\n    <xsl:param name=\"v_path\"/>\\n    <invoiceParties>\\n        <role>\\n            <xsl:value-of select=\"substring(Contact/@role, 1, 30)\"/>\\n        </role>\\n        <xsl:if test=\"string-length(normalize-space(Contact/Name)) > 0\">\\n            <name>\\n                <xsl:value-of select=\"substring(Contact/Name, 1, 256)\"/>\\n            </name>\\n            <xsl:if test=\"Contact/PostalAddress\">\\n                <providerAddresses>\\n                    <xsl:for-each select=\"Contact/PostalAddress\">\\n                        <postalAddresses>\\n                            <streetLines>\\n                                <xsl:value-of select=\"Street\"/>\\n                            </streetLines>\\n                            <town>\\n                                <xsl:value-of select=\"City\"/>\\n                            </town>\\n                            <xsl:if test=\"string-length(normalize-space(State)) > 0\">\\n                                <region>\\n                                    <xsl:value-of select=\"substring(State, 1, 3)\"/>\\n                                </region>\\n                            </xsl:if>\\n                            <xsl:if test=\"string-length(normalize-space(PostalCode)) > 0\">\\n                                <postalCode>\\n                                    <xsl:value-of select=\"substring(PostalCode, 1, 10)\"/>\\n                                </postalCode>\\n                            </xsl:if>\\n                            <country>\\n                                <xsl:value-of select=\"substring(Country/@isoCountryCode, 1, 3)\"/>\\n                            </country>\\n                            <scriptCodeKey>\\n                                <xsl:value-of select=\"\\'Zzzz\\'\"/>\\n                            </scriptCodeKey>\\n                        </postalAddresses>\\n                    </xsl:for-each>\\n                </providerAddresses>\\n            </xsl:if>\\n        </xsl:if>\\n        <xsl:if test=\"//InvoicePartner/IdReference/@domain = \\'vatID\\'\">\\n            <providerOtherInfos>\\n                <domain>\\n                    <xsl:value-of select=\"//InvoicePartner/IdReference/@domain[\\'vatID\\']\"/>\\n                </domain>\\n                <value>\\n                    <xsl:value-of select=\"//InvoicePartner/IdReference/@identifier\"/>\\n                </value>\\n            </providerOtherInfos>\\n        </xsl:if>\\n    </invoiceParties>\\n</xsl:template>\\n']\n",
      "['\\n<xsl:stylesheet xmlns:xsl=\"http://www.w3.org/1999/XSL/Transform\" version=\"1.0\">\\n  <xsl:output method=\"xml\" indent=\"yes\"/>\\n  <xsl:template match=\"/\">\\n    <root>\\n      <lineItems>\\n        <externalTaxCode>\\n          <xsl:value-of select=\"/cXML/Request/InvoiceDetailRequest/InvoiceDetailOrder/InvoiceDetailServiceItem/Tax/TaxDetail/@category\"/>\\n        </externalTaxCode>\\n        <taxCountry>\\n          <xsl:choose>\\n            <xsl:when test=\"/cXML/Request/InvoiceDetailRequest/InvoiceDetailOrder/InvoiceDetailServiceItem/Tax/TaxDetail/@country\">\\n              <xsl:value-of select=\"/cXML/Request/InvoiceDetailRequest/InvoiceDetailOrder/InvoiceDetailServiceItem/Tax/TaxDetail/@country\"/>\\n            </xsl:when>\\n            <xsl:otherwise>TBD</xsl:otherwise>\\n          </xsl:choose>\\n        </taxCountry>\\n        <debitCreditCode>\\n          <xsl:choose>\\n            <xsl:when test=\"/cXML/Request/InvoiceDetailRequest/InvoiceDetailRequestHeader/@purpose = \\'standard\\' or /cXML/Request/InvoiceDetailRequest/InvoiceDetailRequestHeader/@purpose = \\'lineLevelDebitMemo\\'\">\\n              <xsl:text>S</xsl:text>\\n            </xsl:when>\\n            <xsl:otherwise>H</xsl:otherwise>\\n          </xsl:choose>\\n        </debitCreditCode>\\n        <quantity>\\n          <xsl:value-of select=\"/cXML/Request/InvoiceDetailRequest/InvoiceDetailOrder/InvoiceDetailServiceItem/@quantity\"/>\\n        </quantity>\\n      </lineItems>\\n      <paymentInfos>\\n        <netDueDate>\\n          <xsl:value-of select=\"/cXML/Request/InvoiceDetailRequest/InvoiceDetailRequestHeader/PaymentTerm/Extrinsic[@name = \\'DiscountTermsDueDate\\']\"/>\\n        </netDueDate>\\n        <supplierIBAN>\\n          <xsl:value-of select=\"/cXML/Request/InvoiceDetailRequest/InvoiceDetailRequestHeader/InvoicePartner/Contact[@role = \\'receivingBank\\']/IdReference[domain=\\'ibanID\\']/@identifier\"/>\\n        </supplierIBAN>\\n        <paymentReference>\\n          <xsl:value-of select=\"/cXML/Request/InvoiceDetailRequest/InvoiceDetailRequestHeader/InvoicePartner[/Contact[@role = \\'remitTo\\']&[IdReference/@domain = ‘reference’]/@identifier\"/>\\n        </paymentReference>\\n      </paymentInfos>\\n      <taxes>\\n        <externalCode>\\n          <xsl:value-of select=\"/cXML/Request/InvoiceDetailRequest/InvoiceDetailSummary/Tax/TaxDetail/@category\"/>\\n        </externalCode>\\n      </taxes>\\n    </root>\\n  </xsl:template>\\n</xsl:stylesheet>\\n']\n",
      "['\\n<!-- Create Party Section -->\\n<xsl:template name=\"createParties\">\\n    <xsl:param name=\"v_path\"/>\\n    <invoiceParties>\\n        <role>\\n            <xsl:value-of select=\"substring(Contact/@role, 1, 30)\"/>\\n        </role>\\n        <xsl:if test=\"string-length(normalize-space(Contact/Name)) > 0\">\\n            <name>\\n                <xsl:value-of select=\"substring(Contact/Name, 1, 256)\"/>\\n            </name>\\n            <xsl:if test=\"Contact/PostalAddress\">\\n                <providerAddresses>\\n                    <xsl:for-each select=\"Contact/PostalAddress\">\\n                        <postalAddresses>\\n                            <streetLines>\\n                                <xsl:value-of select=\"Street\"/>\\n                            </streetLines>\\n                            <town>\\n                                <xsl:value-of select=\"City\"/>\\n                            </town>\\n                            <xsl:if test=\"string-length(normalize-space(State)) > 0\">\\n                                <region>\\n                                    <xsl:value-of select=\"substring(State, 1, 3)\"/>\\n                                </region>\\n                            </xsl:if>\\n                            <xsl:if test=\"string-length(normalize-space(PostalCode)) > 0\">\\n                                <postalCode>\\n                                    <xsl:value-of select=\"substring(PostalCode, 1, 10)\"/>\\n                                </postalCode>\\n                            </xsl:if>\\n                            <country>\\n                                <xsl:value-of select=\"substring(Country/@isoCountryCode, 1, 3)\"/>\\n                            </country>\\n                            <scriptCodeKey>\\n                                <xsl:value-of select=\"\\'Zzzz\\'\"/>\\n                            </scriptCodeKey>\\n                        </postalAddresses>\\n                    </xsl:for-each>\\n                </providerAddresses>\\n            </xsl:if>\\n        </xsl:if>\\n        <xsl:if test=\"//InvoicePartner/IdReference/@domain = \\'vatID\\'\">\\n            <providerOtherInfos>\\n                <domain>\\n                    <xsl:value-of select=\"//InvoicePartner/IdReference/@domain[\\'vatID\\']\"/>\\n                </domain>\\n                <value>\\n                    <xsl:value-of select=\"//InvoicePartner/IdReference/@identifier\"/>\\n                </value>\\n            </providerOtherInfos>\\n        </xsl:if>\\n    </invoiceParties>\\n</xsl:template>\\n']\n",
      "['\\n<xsl:template match=\"Combined\">\\n    <root>\\n        <invoiceReceiptDate>\\n            <xsl:value-of select=\"substring($documentreceiptdate, 1 ,10)\"/>\\n        </invoiceReceiptDate>\\n        <xsl:if test=\"string-length(normalize-space(Payload/cXML/Request/InvoiceDetailRequest/InvoiceDetailSummary/Tax/TaxDetail[@category = \\'vat\\']/@taxPointDate)) > 0\">\\n            <taxFulfillmentDate>\\n                <xsl:value-of select=\"substring(//InvoiceDetailSummary/Tax/TaxDetail[@category = \\'vat\\']/@taxPointDate, 1, 10)\"/>\\n            </taxFulfillmentDate>\\n        </xsl:if>\\n        <externalIds>\\n            <id>\\n                <xsl:value-of select=\"$anPayloadID\"/>\\n            </id>\\n            <type>\\n                <xsl:value-of select=\"\\'anPayloadId\\'\"/>    \\n            </type>\\n        </externalIds>\\n        <xsl:for-each select=\"(//InvoiceDetailRequest/InvoiceDetailOrder/InvoiceDetailItem, //InvoiceDetailRequest/InvoiceDetailOrder/InvoiceDetailServiceItem)\">\\n            <xsl:if test=\"string-length(normalize-space(../InvoiceDetailOrderInfo/OrderReference/@orderID)) > 0\">\\n                <poReferences>\\n                    <documentNumber>\\n                        <xsl:value-of select=\"substring(../InvoiceDetailOrderInfo/OrderReference/@orderID, 1, 10)\"/>\\n                    </documentNumber>\\n                    <xsl:if test=\"string-length(normalize-space(InvoiceDetailItemReference/@lineNumber)) > 0\">\\n                        <itemNumber>\\n                            <xsl:value-of select=\"substring(InvoiceDetailItemReference/@lineNumber, 1, 10)\"/>\\n                        </itemNumber>\\n                    </xsl:if>\\n                </poReferences>\\n            </xsl:if>\\n        </xsl:for-each>\\n        <xsl:for-each select=\"//InvoiceDetailRequest/InvoiceDetailOrder/InvoiceDetailServiceItem/ServiceEntryItemReference\">\\n            <xsl:if test=\"string-length(normalize-space(@serviceEntryID)) > 0\">\\n                <sesReferences>\\n                    <documentNumber>\\n                        <xsl:value-of select=\"substring(@serviceEntryID, 1, 10)\"/>\\n                    </documentNumber>\\n                    <xsl:if test=\"string-length(normalize-space(@serviceLineNumber)) > 0\">\\n                        <itemNumber>\\n                            <xsl:value-of select=\"@serviceLineNumber\"/>\\n                        </itemNumber>\\n                    </xsl:if>\\n                </sesReferences>\\n            </xsl:if>\\n        </xsl:for-each>\\n    </root>\\n</xsl:template>\\n']\n",
      "['\\n<xsl:stylesheet xmlns:xsl=\"http://www.w3.org/1999/XSL/Transform\"\\n    xmlns:xs=\"http://www.w3.org/2001/XMLSchema\" version=\"2.0\" exclude-result-prefixes=\"#all\">\\n    <xsl:output method=\"xml\" indent=\"no\" omit-xml-declaration=\"yes\"/>\\n    <xsl:param name=\"anPayloadID\"/>\\n    <xsl:param name=\"documentreceiptdate\"/>\\n    <xsl:template match=\"Combined\">\\n        <root>\\n            <!--Determining Invoice or Credit Memo-->\\n            <xsl:variable name=\"v_invoiceType\" select=\"Payload/cXML/Request/InvoiceDetailRequest/InvoiceDetailRequestHeader/@purpose\"/>\\n            <xsl:choose>\\n                <xsl:when test=\"$v_invoiceType = \\'standard\\' or $v_invoiceType = \\'lineLevelDebitMemo\\'\">\\n                    <lineItems>\\n                        <debitCreditCode>\\n                            <xsl:value-of select=\"\\'S\\'\"/>\\n                        </debitCreditCode>\\n                    </lineItems>\\n                </xsl:when>\\n                <xsl:when test=\"$v_invoiceType = \\'creditmemo\\' or $v_invoiceType = \\'lineLevelCreditMemo\\'\">\\n                    <lineItems>\\n                        <debitCreditCode>\\n                            <xsl:value-of select=\"\\'H\\'\"/>\\n                        </debitCreditCode>\\n                    </lineItems>\\n                </xsl:when>\\n            </xsl:choose>\\n\\n            <!-- Line Item Mapping -->\\n            <xsl:for-each select=\"Payload/cXML/Request/InvoiceDetailRequest/InvoiceDetailOrder/InvoiceDetailItem\">\\n                <lineItems>\\n                    <quantity>\\n                        <xsl:value-of select=\"format-number(xs:decimal(@quantity), \\'0.000\\')\"/>\\n                    </quantity>\\n                </lineItems>\\n            </xsl:for-each>\\n\\n            <xsl:for-each select=\"Payload/cXML/Request/InvoiceDetailRequest/InvoiceDetailOrder/InvoiceDetailServiceItem\">\\n                <lineItems>\\n                    <invoiceDocumentItem>\\n                        <xsl:value-of select=\"@invoiceLineNumber\"/>\\n                    </invoiceDocumentItem>\\n                    <currency>\\n                        <xsl:value-of select=\"substring(SubtotalAmount/Money/@currency, 1, 5)\"/>\\n                    </currency>\\n                    <amount>\\n                        <xsl:value-of select=\"format-number(xs:decimal(SubtotalAmount/Money), \\'0.000000\\')\"/>\\n                    </amount>\\n                    <externalUnitOfMeasure>\\n                        <xsl:value-of select=\"substring(UnitOfMeasure, 1, 30)\"/>\\n                    </externalUnitOfMeasure>\\n                    <unitPrice>\\n                        <xsl:value-of select=\"format-number(xs:decimal(UnitPrice/Money), \\'0.000000\\')\"/>\\n                    </unitPrice>\\n                    <description>\\n                        <xsl:value-of select=\"InvoiceDetailItemReference/Description\"/>\\n                    </description>\\n                    <taxRate>\\n                        <xsl:value-of select=\"format-number(xs:decimal(Tax/TaxDetail[1]/@percentageRate), \\'0.000000\\')\"/>\\n                    </taxRate>\\n                </lineItems>\\n            </xsl:for-each>\\n        </root>\\n    </xsl:template>\\n</xsl:stylesheet>\\n']\n",
      "['\\n<!-- Taxes Mapping -->\\n<xsl:for-each select=\"Payload/cXML/Request/InvoiceDetailRequest/InvoiceDetailSummary/Tax/TaxDetail\">\\n    <taxes>\\n        <xsl:if test=\"string-length(normalize-space(@category)) > 0\">\\n            <externalCode>\\n                <xsl:value-of select=\"substring(@category, 1, 30)\"/>\\n            </externalCode>\\n        </xsl:if>\\n        <xsl:if test=\"string-length(normalize-space(Description)) > 0\">\\n            <description>\\n                <xsl:value-of select=\"Description\"/>\\n            </description>\\n        </xsl:if>\\n        <xsl:if test=\"string-length(normalize-space(@percentageRate)) > 0 \">\\n            <percentage>\\n                <xsl:value-of select=\"format-number(xs:decimal(@percentageRate), \\'0.000000\\')\"/>\\n            </percentage>\\n        </xsl:if>\\n        <xsl:if test=\"string-length(normalize-space(TaxAmount/Money/@currency)) > 0\">\\n            <currency>\\n                <xsl:value-of select=\"substring(TaxAmount/Money/@currency, 1, 3)\"/>\\n            </currency>\\n        </xsl:if>\\n        <xsl:if test=\"string-length(normalize-space(TaxAmount/Money)) > 0\">\\n            <amount>\\n                <xsl:value-of select=\"format-number(xs:decimal(TaxAmount/Money), \\'#0.000000\\')\"/>\\n            </amount>\\n        </xsl:if>\\n        <xsl:if test=\"string-length(normalize-space(TaxableAmount/Money)) > 0\">\\n            <baseAmountInTransactionCurrency>\\n                <xsl:value-of select=\"format-number(xs:decimal(TaxableAmount/Money), \\'0.000000\\')\"/>\\n            </baseAmountInTransactionCurrency>\\n        </xsl:if>\\n        <xsl:if test=\"string-length(normalize-space(TaxAmount/Money/@alternateCurrency)) > 0\">\\n            <localCurrency>\\n                <xsl:value-of select=\"substring(TaxAmount/Money/@alternateCurrency, 1 ,5)\"/>\\n            </localCurrency>\\n        </xsl:if>\\n        <xsl:if test=\"string-length(normalize-space(TaxAmount/Money/@alternateAmount)) > 0\">\\n            <baseAmountInLocalCurrency>\\n                <xsl:value-of select=\"format-number(xs:decimal(TaxAmount/Money/@alternateAmount), \\'0.000000\\')\"/>\\n            </baseAmountInLocalCurrency>\\n        </xsl:if>\\n        <xsl:if test=\"string-length(normalize-space(TaxLocation)) > 0\">\\n            <country>\\n                <xsl:value-of select=\"substring(TaxLocation,1, 2)\"/>\\n            </country>\\n        </xsl:if>\\n        <xsl:if test=\"string-length(normalize-space(@isTriangularTransaction)) > 0\">\\n            <isEuropeanCommunityVATTriangulation>\\n                <xsl:value-of select=\"@isTriangularTransaction\"/>\\n            </isEuropeanCommunityVATTriangulation>\\n        </xsl:if>\\n    </taxes>\\n</xsl:for-each>\\n\\n<!-- Parties -->\\n<xsl:for-each select=\"Payload/cXML/Request/InvoiceDetailRequest/InvoiceDetailRequestHeader/InvoicePartner\">\\n    <xsl:choose>\\n        <xsl:when test=\"Contact/@role = \\'from\\'\">\\n            <xsl:call-template name=\"createParties\">\\n                <xsl:with-param name=\"v_path\" select=\".\"/>\\n            </xsl:call-template>                \\n        </xsl:when>\\n    </xsl:choose>\\n</xsl:for-each>\\n']\n",
      "['\\n<?xml version=\"1.0\" encoding=\"UTF-8\"?>\\n<xsl:stylesheet xmlns:xsl=\"http://www.w3.org/1999/XSL/Transform\"\\n    xmlns:xs=\"http://www.w3.org/2001/XMLSchema\" version=\"2.0\" exclude-result-prefixes=\"#all\">\\n    <xsl:output method=\"xml\" indent=\"no\" omit-xml-declaration=\"yes\"/>\\n    <xsl:param name=\"anPayloadID\"/>\\n    <xsl:param name=\"documentreceiptdate\"/>\\n    <xsl:template match=\"Combined\">\\n        <root>\\n            <origin>\\n                <xsl:value-of select=\"\\'03\\'\"/>\\n            </origin>\\n            <supplierInvoiceId>\\n                <xsl:value-of select=\"substring(Payload/cXML/Request/InvoiceDetailRequest/InvoiceDetailRequestHeader/@invoiceID, 1,16)\"/>\\n            </supplierInvoiceId>\\n            <xsl:if test=\"string-length(normalize-space(Payload/cXML/Request/InvoiceDetailRequest/InvoiceDetailRequestHeader/InvoicePartner/Contact[@role = \\'billTo\\']/@addressID)) > 0\">\\n                <receiverCompanyCode>\\n                    <xsl:value-of select=\"substring(Payload/cXML/Request/InvoiceDetailRequest/InvoiceDetailRequestHeader/InvoicePartner/Contact[@role = \\'billTo\\']/@addressID, 1, 10)\"/>\\n                </receiverCompanyCode>\\n            </xsl:if>\\n            <xsl:if test=\"string-length(normalize-space(Payload/cXML/Header/From/Credential[@domain = \\'VendorID\\']/Identity)) > 0\">\\n                <receiverSupplier>\\n                    <xsl:value-of select=\"substring(Payload/cXML/Header/From/Credential[@domain = \\'VendorID\\']/Identity, 1,10)\"/>\\n                </receiverSupplier>\\n            </xsl:if>\\n            <currency>\\n                <xsl:value-of select=\"substring(Payload/cXML/Request/InvoiceDetailRequest/InvoiceDetailSummary/GrossAmount/Money/@currency, 1,5)\"/>\\n            </currency>\\n            <!-- gross Amount Template -->\\n            <xsl:call-template name=\"GrossAmount\"/>\\n            <documentDate>\\n                <xsl:value-of select=\"substring(Payload/cXML/Request/InvoiceDetailRequest/InvoiceDetailRequestHeader/@invoiceDate, 1, 10)\"/>\\n            </documentDate>\\n            <xsl:if test=\"string-length(normalize-space(Payload/cXML/Request/InvoiceDetailRequest/InvoiceDetailRequestHeader/Comments)) > 0\">\\n                <documentHeaderText>\\n                    <xsl:value-of select=\"substring(Payload/cXML/Request/InvoiceDetailRequest/InvoiceDetailRequestHeader/Comments, 1,25)\"/>\\n                </documentHeaderText>\\n            </xsl:if>\\n            <invoiceReceiptDate>\\n                <xsl:value-of select=\"substring($documentreceiptdate, 1 ,10)\"/>\\n            </invoiceReceiptDate>\\n        </root>\\n    </xsl:template>\\n    <!-- common Templates -->\\n    <!-- Sum SubTotalAmount + TaxAmount if summary grossAmount is empty -->    \\n    <xsl:template name=\"GrossAmount\">\\n        <!-- sum all SubTotalAmount + TaxAmounts -->\\n        <xsl:variable name=\"v_gross_amount\">\\n            <xsl:for-each select=\"Payload/cXML/Request/InvoiceDetailRequest/InvoiceDetailOrder/InvoiceDetailItem\">\\n                <value>\\n                    <xsl:value-of select=\"sum(SubtotalAmount/Money + Tax/TaxDetail[1]/TaxAmount/Money)\"/>\\n                </value>\\n                </xsl:for-each>\\n            </xsl:variable>\\n        <grossAmount>\\n            <xsl:choose>\\n                <xsl:when test=\"string-length(normalize-space(Payload/cXML/Request/InvoiceDetailRequest/InvoiceDetailSummary/GrossAmount/Money)) > 0\">\\n                    <xsl:value-of select=\"format-number(xs:decimal(Payload/cXML/Request/InvoiceDetailRequest/InvoiceDetailSummary/GrossAmount/Money), \\'0.000000\\')\"/>\\n                </xsl:when>\\n                <xsl:otherwise>\\n                    <xsl:value-of\\n                            select=\"format-number(xs:decimal(sum($v_gross_amount/value)), \\'0.000000\\')\">\\n                    </xsl:value-of>\\n                </xsl:otherwise>\\n            </xsl:choose>\\n        </grossAmount>\\n    </xsl:template>\\n</xsl:stylesheet>\\n']\n",
      "['\\n<xsl:template match=\"Combined\">\\n    <!-- Line Item Mapping -->\\n    <xsl:for-each select=\"Payload/cXML/Request/InvoiceDetailRequest/InvoiceDetailOrder\">\\n        <!-- Material Based Mapping Line Item Details -->\\n        <xsl:for-each select=\"InvoiceDetailItem\">\\n            <lineItems>\\n                <xsl:if test=\"string-length(normalize-space(@invoiceLineNumber)) > 0\">\\n                    <invoiceDocumentItem>\\n                        <xsl:value-of select=\"@invoiceLineNumber\"/>\\n                    </invoiceDocumentItem>\\n                </xsl:if>\\n                <xsl:if test=\"string-length(normalize-space(SubtotalAmount/Money/@currency)) > 0\">\\n                    <currency>\\n                        <xsl:value-of select=\"substring(SubtotalAmount/Money/@currency, 1, 5)\"/>\\n                    </currency>\\n                </xsl:if>\\n                <xsl:if test=\"string-length(normalize-space(SubtotalAmount/Money)) > 0\">\\n                    <amount>\\n                        <xsl:value-of select=\"format-number(xs:decimal(SubtotalAmount/Money), \\'0.000000\\')\"/>\\n                    </amount>\\n                </xsl:if>\\n                <xsl:if test=\"string-length(normalize-space(UnitOfMeasure)) > 0\">\\n                    <externalUnitOfMeasure>\\n                        <xsl:value-of select=\"substring(UnitOfMeasure, 1, 30)\"/>\\n                    </externalUnitOfMeasure>\\n                </xsl:if>\\n                <xsl:if test=\"string-length(normalize-space(UnitPrice/Money)) > 0\">\\n                    <unitPrice>\\n                        <xsl:value-of select=\"format-number(xs:decimal(UnitPrice/Money), \\'0.000000\\')\"/>\\n                    </unitPrice>\\n                </xsl:if>\\n                <xsl:if test=\"string-length(normalize-space(InvoiceDetailItemReference/Description)) > 0\">\\n                    <description>\\n                        <xsl:value-of select=\"InvoiceDetailItemReference/Description\"/>\\n                    </description>\\n                </xsl:if>\\n                <xsl:if test=\"string-length(normalize-space(Tax/TaxDetail[1]/@percentageRate)) > 0 \">\\n                    <taxRate>\\n                        <xsl:value-of select=\"format-number(xs:decimal(Tax/TaxDetail[1]/@percentageRate), \\'0.000000\\')\"/>\\n                    </taxRate>\\n                </xsl:if>\\n                <xsl:if test=\"string-length(normalize-space(Tax/TaxDetail[1]/@category)) > 0 \">\\n                    <externalTaxCode>\\n                        <xsl:value-of select=\"Tax/TaxDetail[1]/@category\"/>\\n                    </externalTaxCode>\\n                </xsl:if>\\n                <xsl:if test=\"string-length(normalize-space()) > 0\">\\n                    <taxCountry>\\n                        <xsl:value-of select=\"substring(, 1, 3)\"/>\\n                    </taxCountry>\\n                </xsl:if>\\n            </lineItems>               \\n        </xsl:for-each>           \\n    </xsl:for-each>\\n</xsl:template>\\n']\n",
      "['\\n<!-- Parties -->\\n<xsl:for-each select=\"Payload/cXML/Request/InvoiceDetailRequest/InvoiceDetailRequestHeader/InvoicePartner\">\\n<xsl:choose>\\n    <xsl:when test=\"Contact/@role = \\'from\\'\">\\n        <xsl:call-template name=\"createParties\">\\n            <xsl:with-param name=\"v_path\" select=\".\"/>\\n        </xsl:call-template>                \\n    </xsl:when>\\n    <xsl:when test=\"Contact/@role = \\'soldTo\\'\">\\n        <xsl:call-template name=\"createParties\">\\n            <xsl:with-param name=\"v_path\" select=\".\"/>\\n        </xsl:call-template>                \\n    </xsl:when>\\n</xsl:choose>\\n</xsl:for-each>\\n\\n<!-- Create Party Section -->\\n<xsl:template name=\"createParties\">\\n<xsl:param name=\"v_path\"/>\\n<invoiceParties>\\n    <role>\\n        <xsl:value-of select=\"substring(Contact/@role, 1, 30)\"/>\\n    </role>\\n    <xsl:if test=\"string-length(normalize-space(Contact/Name)) > 0\">\\n        <name>\\n            <xsl:value-of select=\"substring(Contact/Name, 1, 256)\"/>\\n        </name>\\n        <xsl:if test=\"Contact/PostalAddress\">\\n            <providerAddresses>\\n                <xsl:for-each select=\"Contact/PostalAddress\">\\n                    <postalAddresses>\\n                        <streetLines>\\n                            <xsl:value-of select=\"Street\"/>\\n                        </streetLines>\\n                        <town>\\n                            <xsl:value-of select=\"City\"/>\\n                        </town>\\n                        <xsl:if test=\"string-length(normalize-space(State)) > 0\">\\n                            <region>\\n                                <xsl:value-of select=\"substring(State, 1, 3)\"/>\\n                            </region>\\n                        </xsl:if>\\n                        <xsl:if test=\"string-length(normalize-space(PostalCode)) > 0\">\\n                            <postalCode>\\n                                <xsl:value-of select=\"substring(PostalCode, 1, 10)\"/>\\n                            </postalCode>\\n                        </xsl:if>\\n                        <country>\\n                            <xsl:value-of select=\"substring(Country/@isoCountryCode, 1, 3)\"/>\\n                        </country>\\n                        <scriptCodeKey>\\n                            <xsl:value-of select=\"\\'Zzzz\\'\"/>\\n                        </scriptCodeKey>\\n                    </postalAddresses>\\n                </xsl:for-each>\\n            </providerAddresses>\\n        </xsl:if>\\n    </xsl:if>\\n    <xsl:if test=\"//InvoicePartner/IdReference/@domain = \\'vatID\\'\">\\n        <providerOtherInfos>\\n            <domain>\\n                <xsl:value-of select=\"//InvoicePartner/IdReference/@domain[\\'vatID\\']\"/>\\n            </domain>\\n            <value>\\n                <xsl:value-of select=\"//InvoicePartner/IdReference/@identifier\"/>\\n            </value>\\n        </providerOtherInfos>\\n    </xsl:if>\\n</invoiceParties>\\n</xsl:template>\\n\\n<!-- Attachments -->\\n<xsl:if test=\"AttachmentList/Attachment\">\\n<xsl:call-template name=\"Attachment\">\\n    <xsl:with-param name=\"attachmentList\" select=\"AttachmentList\"/>\\n</xsl:call-template>\\n</xsl:if>\\n\\n<!-- Attachments Template -->\\n<xsl:template name=\"Attachment\">\\n<xsl:param name=\"attachmentList\"/>\\n<xsl:variable name=\"v_taxInv\" select=\"//InvoiceDetailRequestHeader/Extrinsic[@name = \\'taxInvoiceAttachmentName\\']\"/>\\n<xsl:variable name=\"v_invoicePDF\" select=\"//InvoiceDetailRequestHeader/Extrinsic[@name = \\'invoicePDF\\']\"/>\\n\\n<xsl:for-each select=\"$attachmentList/Attachment\">\\n    <xsl:variable name=\"cid_taxInv\" select=\"substring-after($v_taxInv, \\'cid:\\')\"/>\\n    <xsl:variable name=\"cid_invoicePdf\" select=\"substring-after($v_invoicePDF/Attachment/URL, \\'cid:\\')\"/>\\n    <attachments>\\n        <xsl:choose>\\n            <xsl:when test=\"exists($v_taxInv) and AttachmentID = $cid_taxInv\">\\n                <isDefault>\\n                    <xsl:value-of select=\"exists($v_invoicePDF)\"/>\\n                </isDefault>\\n                <fileName>\\n                    <xsl:value-of select=\"$cid_taxInv\"/>\\n                </fileName>\\n                <documentType>\\n                    <xsl:value-of select=\"\\'Invoice\\'\"/>\\n                </documentType>\\n            </xsl:when>\\n            <xsl:when test=\"not(exists($v_taxInv)) and exists($v_invoicePDF) and AttachmentID = $cid_invoicePdf\">\\n                <isDefault>\\n                    <xsl:value-of select=\"exists($v_invoicePDF)\"/>\\n                </isDefault>\\n                <fileName>\\n                    <xsl:value-of select=\"$cid_invoicePdf\"/>\\n                </fileName>\\n                <documentType>\\n                    <xsl:value-of select=\"\\'Invoice\\'\"/>\\n                </documentType>\\n            </xsl:when>\\n            <xsl:otherwise>\\n                <fileName>\\n                    <xsl:value-of select=\"AttachmentName\"/>\\n                </fileName>\\n                <documentType>\\n                    <xsl:value-of select=\"\\'Others\\'\"/>\\n                </documentType>\\n            </xsl:otherwise>\\n        </xsl:choose>\\n    </attachments>\\n</xsl:for-each>\\n</xsl:template>\\n']\n",
      "All requests completed.\n"
     ]
    }
   ],
   "source": [
    "# Initialize your data and DataFrame here\n",
    "df = pd.read_excel(\"cXML Mappings - MAPPING_ANY_cXML_0000_InvoiceDetailRequest_1INV_0000_Invoice.xlsx\")\n",
    "new_df = df.copy()\n",
    "\n",
    "# Read Invoice xslt file and store in output variable\n",
    "with open(\"MAPPING_ANY_cXML_0000_InvoiceDetailRequest_1INV_0000_Invoice.xsl\", \"r\") as file:\n",
    "    output = file.read()\n",
    "\n",
    "file.close()\n",
    "    \n",
    "chunks = 10  # Adjust the chunk size as needed\n",
    "token = getAccessToken()\n",
    "svc_url = \"https://azure-openai-serv-i057149.cfapps.sap.hana.ondemand.com\"\n",
    "\n",
    "threads = []\n",
    "\n",
    "i = 0\n",
    "while i < len(df):\n",
    "    print(i)\n",
    "    thread = threading.Thread(target=generate_xml, args=(new_df,i, chunks, token, svc_url, output, input))\n",
    "    threads.append(thread)\n",
    "    thread.start()\n",
    "\n",
    "    i += chunks\n",
    "\n",
    "for thread in threads:\n",
    "    thread.join()\n",
    "\n",
    "print(\"All requests completed.\")"
   ]
  },
  {
   "cell_type": "code",
   "execution_count": null,
   "metadata": {},
   "outputs": [],
   "source": []
  },
  {
   "cell_type": "code",
   "execution_count": 30,
   "metadata": {},
   "outputs": [
    {
     "name": "stdout",
     "output_type": "stream",
     "text": [
      "Match 1 was found at 44-2495: ```xml\\\\n<?xml version=\\\\\\\"1.0\\\\\\\" encoding=\\\\\\\"UTF-8\\\\\\\"?>\\\\n<xsl:stylesheet xmlns:xsl=\\\\\\\"http://www.w3.org/1999/XSL/Transform\\\\\\\"\\\\n    xmlns:xs=\\\\\\\"http://www.w3.org/2001/XMLSchema\\\\\\\" version=\\\\\\\"2.0\\\\\\\" exclude-result-prefixes=\\\\\\\"#all\\\\\\\">\\\\n    <xsl:output method=\\\\\\\"xml\\\\\\\" indent=\\\\\\\"no\\\\\\\" omit-xml-declaration=\\\\\\\"yes\\\\\\\"/>\\\\n    <xsl:param name=\\\\\\\"anPayloadID\\\\\\\"/>\\\\n    <xsl:param name=\\\\\\\"documentreceiptdate\\\\\\\"/>\\\\n    <xsl:template match=\\\\\\\"Combined\\\\\\\">\\\\n        <root>\\\\n            <origin>\\\\n                <xsl:value-of select=\\\\\\\"'03'\\\\\\\"/>\\\\n            </origin>\\\\n            <supplierInvoiceId>\\\\n                <xsl:value-of select=\\\\\\\"substring(Payload/cXML/Request/InvoiceDetailRequest/InvoiceDetailRequestHeader/@invoiceID, 1,16)\\\\\\\"/>\\\\n            </supplierInvoiceId>\\\\n            <receiverSystemId>\\\\n                <xsl:value-of select=\\\\\\\"substring(Payload/cXML/Header/To/Credential[@domain='SystemID']/Identity, 1,30)\\\\\\\"/>\\\\n            </receiverSystemId>\\\\n            <receiverCompanyCode>\\\\n                <xsl:value-of select=\\\\\\\"substring(Payload/cXML/Request/InvoiceDetailRequest/InvoiceDetailRequestHeader/InvoicePartner/Contact[@role = 'billTo']/@addressID, 1, 10)\\\\\\\"/>\\\\n            </receiverCompanyCode>\\\\n            <receiverSupplier>\\\\n                <xsl:value-of select=\\\\\\\"substring(Payload/cXML/Header/From/Credential[@domain = 'VendorID']/Identity, 1,10)\\\\\\\"/>\\\\n            </receiverSupplier>\\\\n            <purpose>\\\\n                <xsl:value-of select=\\\\\\\"'I'\\\\\\\"/>\\\\n            </purpose>\\\\n            <currency>\\\\n                <xsl:value-of select=\\\\\\\"substring(Payload/cXML/Request/InvoiceDetailRequest/InvoiceDetailSummary/GrossAmount/Money/@currency, 1,5)\\\\\\\"/>\\\\n            </currency>\\\\n            <grossAmount>\\\\n                <xsl:value-of select=\\\\\\\"Payload/cXML/Request/InvoiceDetailRequest/InvoiceDetailSummary/GrossAmount/Money\\\\\\\"/>\\\\n            </grossAmount>\\\\n            <documentDate>\\\\n                <xsl:value-of select=\\\\\\\"substring(Payload/cXML/Request/InvoiceDetailRequest/InvoiceDetailRequestHeader/@invoiceDate, 1, 10)\\\\\\\"/>\\\\n            </documentDate>\\\\n            <documentHeaderText>\\\\n                <xsl:value-of select=\\\\\\\"substring(Payload/cXML/Request/InvoiceDetailRequest/InvoiceDetailRequestHeader/Comments, 1,25)\\\\\\\"/>\\\\n            </documentHeaderText>\\\\n        </root>\\\\n    </xsl:template>\\\\n</xsl:stylesheet>\\\\n```\n",
      "Group 1 found at 50-2492: \\\\n<?xml version=\\\\\\\"1.0\\\\\\\" encoding=\\\\\\\"UTF-8\\\\\\\"?>\\\\n<xsl:stylesheet xmlns:xsl=\\\\\\\"http://www.w3.org/1999/XSL/Transform\\\\\\\"\\\\n    xmlns:xs=\\\\\\\"http://www.w3.org/2001/XMLSchema\\\\\\\" version=\\\\\\\"2.0\\\\\\\" exclude-result-prefixes=\\\\\\\"#all\\\\\\\">\\\\n    <xsl:output method=\\\\\\\"xml\\\\\\\" indent=\\\\\\\"no\\\\\\\" omit-xml-declaration=\\\\\\\"yes\\\\\\\"/>\\\\n    <xsl:param name=\\\\\\\"anPayloadID\\\\\\\"/>\\\\n    <xsl:param name=\\\\\\\"documentreceiptdate\\\\\\\"/>\\\\n    <xsl:template match=\\\\\\\"Combined\\\\\\\">\\\\n        <root>\\\\n            <origin>\\\\n                <xsl:value-of select=\\\\\\\"'03'\\\\\\\"/>\\\\n            </origin>\\\\n            <supplierInvoiceId>\\\\n                <xsl:value-of select=\\\\\\\"substring(Payload/cXML/Request/InvoiceDetailRequest/InvoiceDetailRequestHeader/@invoiceID, 1,16)\\\\\\\"/>\\\\n            </supplierInvoiceId>\\\\n            <receiverSystemId>\\\\n                <xsl:value-of select=\\\\\\\"substring(Payload/cXML/Header/To/Credential[@domain='SystemID']/Identity, 1,30)\\\\\\\"/>\\\\n            </receiverSystemId>\\\\n            <receiverCompanyCode>\\\\n                <xsl:value-of select=\\\\\\\"substring(Payload/cXML/Request/InvoiceDetailRequest/InvoiceDetailRequestHeader/InvoicePartner/Contact[@role = 'billTo']/@addressID, 1, 10)\\\\\\\"/>\\\\n            </receiverCompanyCode>\\\\n            <receiverSupplier>\\\\n                <xsl:value-of select=\\\\\\\"substring(Payload/cXML/Header/From/Credential[@domain = 'VendorID']/Identity, 1,10)\\\\\\\"/>\\\\n            </receiverSupplier>\\\\n            <purpose>\\\\n                <xsl:value-of select=\\\\\\\"'I'\\\\\\\"/>\\\\n            </purpose>\\\\n            <currency>\\\\n                <xsl:value-of select=\\\\\\\"substring(Payload/cXML/Request/InvoiceDetailRequest/InvoiceDetailSummary/GrossAmount/Money/@currency, 1,5)\\\\\\\"/>\\\\n            </currency>\\\\n            <grossAmount>\\\\n                <xsl:value-of select=\\\\\\\"Payload/cXML/Request/InvoiceDetailRequest/InvoiceDetailSummary/GrossAmount/Money\\\\\\\"/>\\\\n            </grossAmount>\\\\n            <documentDate>\\\\n                <xsl:value-of select=\\\\\\\"substring(Payload/cXML/Request/InvoiceDetailRequest/InvoiceDetailRequestHeader/@invoiceDate, 1, 10)\\\\\\\"/>\\\\n            </documentDate>\\\\n            <documentHeaderText>\\\\n                <xsl:value-of select=\\\\\\\"substring(Payload/cXML/Request/InvoiceDetailRequest/InvoiceDetailRequestHeader/Comments, 1,25)\\\\\\\"/>\\\\n            </documentHeaderText>\\\\n        </root>\\\\n    </xsl:template>\\\\n</xsl:stylesheet>\\\\n\n"
     ]
    }
   ],
   "source": [
    "# coding=utf8\n",
    "# the above tag defines encoding for this document and is for Python 2.x compatibility\n",
    "\n",
    "import re\n",
    "\n",
    "regex = r\"```xml(.*?)```\"\n",
    "\n",
    "test_str = (\"Here is the xml output for your input:\\\\\\\\n\\\\\\\\n```xml\\\\\\\\n<?xml version=\\\\\\\\\\\\\\\"1.0\\\\\\\\\\\\\\\" encoding=\\\\\\\\\\\\\\\"UTF-8\\\\\\\\\\\\\\\"?>\\\\\\\\n<xsl:stylesheet xmlns:xsl=\\\\\\\\\\\\\\\"http://www.w3.org/1999/XSL/Transform\\\\\\\\\\\\\\\"\\\\\\\\n    xmlns:xs=\\\\\\\\\\\\\\\"http://www.w3.org/2001/XMLSchema\\\\\\\\\\\\\\\" version=\\\\\\\\\\\\\\\"2.0\\\\\\\\\\\\\\\" exclude-result-prefixes=\\\\\\\\\\\\\\\"#all\\\\\\\\\\\\\\\">\\\\\\\\n    <xsl:output method=\\\\\\\\\\\\\\\"xml\\\\\\\\\\\\\\\" indent=\\\\\\\\\\\\\\\"no\\\\\\\\\\\\\\\" omit-xml-declaration=\\\\\\\\\\\\\\\"yes\\\\\\\\\\\\\\\"/>\\\\\\\\n    <xsl:param name=\\\\\\\\\\\\\\\"anPayloadID\\\\\\\\\\\\\\\"/>\\\\\\\\n    <xsl:param name=\\\\\\\\\\\\\\\"documentreceiptdate\\\\\\\\\\\\\\\"/>\\\\\\\\n    <xsl:template match=\\\\\\\\\\\\\\\"Combined\\\\\\\\\\\\\\\">\\\\\\\\n        <root>\\\\\\\\n            <origin>\\\\\\\\n                <xsl:value-of select=\\\\\\\\\\\\\\\"'03'\\\\\\\\\\\\\\\"/>\\\\\\\\n            </origin>\\\\\\\\n            <supplierInvoiceId>\\\\\\\\n                <xsl:value-of select=\\\\\\\\\\\\\\\"substring(Payload/cXML/Request/InvoiceDetailRequest/InvoiceDetailRequestHeader/@invoiceID, 1,16)\\\\\\\\\\\\\\\"/>\\\\\\\\n            </supplierInvoiceId>\\\\\\\\n            <receiverSystemId>\\\\\\\\n                <xsl:value-of select=\\\\\\\\\\\\\\\"substring(Payload/cXML/Header/To/Credential[@domain='SystemID']/Identity, 1,30)\\\\\\\\\\\\\\\"/>\\\\\\\\n            </receiverSystemId>\\\\\\\\n            <receiverCompanyCode>\\\\\\\\n                <xsl:value-of select=\\\\\\\\\\\\\\\"substring(Payload/cXML/Request/InvoiceDetailRequest/InvoiceDetailRequestHeader/InvoicePartner/Contact[@role = 'billTo']/@addressID, 1, 10)\\\\\\\\\\\\\\\"/>\\\\\\\\n            </receiverCompanyCode>\\\\\\\\n            <receiverSupplier>\\\\\\\\n                <xsl:value-of select=\\\\\\\\\\\\\\\"substring(Payload/cXML/Header/From/Credential[@domain = 'VendorID']/Identity, 1,10)\\\\\\\\\\\\\\\"/>\\\\\\\\n            </receiverSupplier>\\\\\\\\n            <purpose>\\\\\\\\n                <xsl:value-of select=\\\\\\\\\\\\\\\"'I'\\\\\\\\\\\\\\\"/>\\\\\\\\n            </purpose>\\\\\\\\n            <currency>\\\\\\\\n                <xsl:value-of select=\\\\\\\\\\\\\\\"substring(Payload/cXML/Request/InvoiceDetailRequest/InvoiceDetailSummary/GrossAmount/Money/@currency, 1,5)\\\\\\\\\\\\\\\"/>\\\\\\\\n            </currency>\\\\\\\\n            <grossAmount>\\\\\\\\n                <xsl:value-of select=\\\\\\\\\\\\\\\"Payload/cXML/Request/InvoiceDetailRequest/InvoiceDetailSummary/GrossAmount/Money\\\\\\\\\\\\\\\"/>\\\\\\\\n            </grossAmount>\\\\\\\\n            <documentDate>\\\\\\\\n                <xsl:value-of select=\\\\\\\\\\\\\\\"substring(Payload/cXML/Request/InvoiceDetailRequest/InvoiceDetailRequestHeader/@invoiceDate, 1, 10)\\\\\\\\\\\\\\\"/>\\\\\\\\n            </documentDate>\\\\\\\\n            <documentHeaderText>\\\\\\\\n                <xsl:value-of select=\\\\\\\\\\\\\\\"substring(Payload/cXML/Request/InvoiceDetailRequest/InvoiceDetailRequestHeader/Comments, 1,25)\\\\\\\\\\\\\\\"/>\\\\\\\\n            </documentHeaderText>\\\\\\\\n        </root>\\\\\\\\n    </xsl:template>\\\\\\\\n</xsl:stylesheet>\\\\\\\\n```\\n\")\n",
    "\n",
    "matches = re.finditer(regex, test_str, re.MULTILINE)\n",
    "\n",
    "for matchNum, match in enumerate(matches, start=1):\n",
    "    \n",
    "    print (\"Match {matchNum} was found at {start}-{end}: {match}\".format(matchNum = matchNum, start = match.start(), end = match.end(), match = match.group()))\n",
    "    \n",
    "    for groupNum in range(0, len(match.groups())):\n",
    "        groupNum = groupNum + 1\n",
    "        \n",
    "        print (\"Group {groupNum} found at {start}-{end}: {group}\".format(groupNum = groupNum, start = match.start(groupNum), end = match.end(groupNum), group = match.group(groupNum)))\n",
    "\n",
    "# Note: for Python 2.7 compatibility, use ur\"\" to prefix the regex and u\"\" to prefix the test string and substitution.\n"
   ]
  },
  {
   "cell_type": "code",
   "execution_count": 32,
   "metadata": {},
   "outputs": [
    {
     "data": {
      "text/plain": [
       "<callable_iterator at 0x21fd01b61a0>"
      ]
     },
     "execution_count": 32,
     "metadata": {},
     "output_type": "execute_result"
    }
   ],
   "source": []
  },
  {
   "cell_type": "code",
   "execution_count": 25,
   "metadata": {},
   "outputs": [
    {
     "data": {
      "text/plain": [
       "' \\n1) The xml code can be extracted using regular expressions, with pattern regex = r\"```xml(.*?)```\"\\n2) There are 2 possible code generations; a) with xml as first tag b) direct templates to identify these\\nthere is a simple logic check if there is a root in the code if yes go for a) else b).\\n'"
      ]
     },
     "execution_count": 25,
     "metadata": {},
     "output_type": "execute_result"
    }
   ],
   "source": [
    "# Observations while extracting the code\n",
    "''' \n",
    "1) The xml code can be extracted using regular expressions, with pattern regex = r\"```xml(.*?)```\"\n",
    "2) There are 2 possible code generations; a) with xml as first tag b) direct templates to identify these\n",
    "there is a simple logic check if there is a root in the code if yes go for a) else b).\n",
    "'''"
   ]
  },
  {
   "cell_type": "code",
   "execution_count": null,
   "metadata": {},
   "outputs": [],
   "source": []
  }
 ],
 "metadata": {
  "kernelspec": {
   "display_name": "Python 3",
   "language": "python",
   "name": "python3"
  },
  "language_info": {
   "codemirror_mode": {
    "name": "ipython",
    "version": 3
   },
   "file_extension": ".py",
   "mimetype": "text/x-python",
   "name": "python",
   "nbconvert_exporter": "python",
   "pygments_lexer": "ipython3",
   "version": "3.10.6"
  },
  "orig_nbformat": 4
 },
 "nbformat": 4,
 "nbformat_minor": 2
}
